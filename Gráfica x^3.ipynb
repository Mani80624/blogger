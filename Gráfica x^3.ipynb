{
 "cells": [
  {
   "cell_type": "markdown",
   "id": "b5483dce",
   "metadata": {},
   "source": [
    "# Gráfica $x^3$"
   ]
  },
  {
   "cell_type": "markdown",
   "id": "c4e200d5",
   "metadata": {},
   "source": [
    "#### Se utilizan las librerías matplotlib.pyplot y numpy"
   ]
  },
  {
   "cell_type": "code",
   "execution_count": 1,
   "id": "700a4a20",
   "metadata": {},
   "outputs": [],
   "source": [
    "import matplotlib.pyplot as plt\n",
    "import numpy as np"
   ]
  },
  {
   "cell_type": "code",
   "execution_count": 2,
   "id": "5a0267dc",
   "metadata": {},
   "outputs": [
    {
     "name": "stdout",
     "output_type": "stream",
     "text": [
      "Ingresa un número entero positivo: \n",
      "9\n"
     ]
    }
   ],
   "source": [
    "n=int(input(\"Ingresa un número entero positivo: \\n\"))\n",
    "datos = []"
   ]
  },
  {
   "cell_type": "markdown",
   "id": "0f5d69cc",
   "metadata": {},
   "source": [
    "#### Función:"
   ]
  },
  {
   "cell_type": "code",
   "execution_count": 3,
   "id": "6cefcc3d",
   "metadata": {},
   "outputs": [],
   "source": [
    "def cubo(x):\n",
    "    return x**3"
   ]
  },
  {
   "cell_type": "markdown",
   "id": "36b3b30f",
   "metadata": {},
   "source": [
    "Obteniendo valores del arreglo datos"
   ]
  },
  {
   "cell_type": "code",
   "execution_count": 4,
   "id": "6ab8567a",
   "metadata": {},
   "outputs": [
    {
     "name": "stdout",
     "output_type": "stream",
     "text": [
      "1 8 27 64 125 216 343 512 729 "
     ]
    }
   ],
   "source": [
    "for i in range(1, n+1):\n",
    "    datos.append(cubo(i))\n",
    "    print(cubo(i),end=\" \")"
   ]
  },
  {
   "cell_type": "code",
   "execution_count": 5,
   "id": "6d3e5e9a",
   "metadata": {},
   "outputs": [],
   "source": [
    "datos_asarray = np.asarray(datos) # Conversión del arreglo a np.array()\n",
    "#datos_asarray.shape # No. Elementos en datos_asarray"
   ]
  },
  {
   "cell_type": "markdown",
   "id": "cd77cdab",
   "metadata": {},
   "source": [
    "Gráfica de la función $x^3$"
   ]
  },
  {
   "cell_type": "code",
   "execution_count": 6,
   "id": "2e8abdd3",
   "metadata": {},
   "outputs": [
    {
     "data": {
      "text/plain": [
       "<matplotlib.legend.Legend at 0x1a7f50081c0>"
      ]
     },
     "execution_count": 6,
     "metadata": {},
     "output_type": "execute_result"
    },
    {
     "data": {
      "image/png": "[encoded data removed]",
      "text/plain": [
       "<Figure size 432x288 with 1 Axes>"
      ]
     },
     "metadata": {
      "needs_background": "light"
     },
     "output_type": "display_data"
    }
   ],
   "source": [
    "fig, bx = plt.subplots() # Crea una figura y un eje\n",
    "bx.plot(datos_asarray, label='cubic') # Trazar algunos datos en los ejes\n",
    "bx.set_xlabel('x')\n",
    "bx.set_ylabel('f(x)')\n",
    "bx.set_title('Función cúbica')\n",
    "bx.legend()"
   ]
  },
  {
   "cell_type": "code",
   "execution_count": null,
   "id": "6af006f2",
   "metadata": {},
   "outputs": [],
   "source": []
  }
 ],
 "metadata": {
  "kernelspec": {
   "display_name": "Python 3",
   "language": "python",
   "name": "python3"
  },
  "language_info": {
   "codemirror_mode": {
    "name": "ipython",
    "version": 3
   },
   "file_extension": ".py",
   "mimetype": "text/x-python",
   "name": "python",
   "nbconvert_exporter": "python",
   "pygments_lexer": "ipython3",
   "version": "3.8.8"
  }
 },
 "nbformat": 4,
 "nbformat_minor": 5
}
