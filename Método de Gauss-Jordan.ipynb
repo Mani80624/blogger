{
 "cells": [
  {
   "cell_type": "markdown",
   "id": "518d07ff",
   "metadata": {},
   "source": [
    "# Métodos directos para resolver sistemas de ecuaciones lineales\n",
    "## Método de Gauss-Jordan\n",
    "### Ejemplo: \n",
    "Un comerciante compra tres productos: $A,B,C,$ pero en las facturas únicamente consta la cantidad comprada en Kg, y el valor total de la compra. Se necesita determinar el precio unitario de cada producto. Para esto dispone de tres facturas con los siguientes datos:\n"
   ]
  },
  {
   "cell_type": "markdown",
   "id": "b712f184",
   "metadata": {},
   "source": [
    "Factura | Cantidad de $A$ | Cantidad de $B$ | Cantidad de $C$ | Valor pagado\n",
    "------- | --------------- | --------------- | --------------- | ------------\n",
    "1| 4 | 2|  5 | \\$60.70\n",
    "2 | 2 |  5 | 8 | \\$92.30\n",
    "3 | 5 | 4 | 3  | \\$56.30\n",
    "\n"
   ]
  },
  {
   "cell_type": "markdown",
   "id": "1e14fc13",
   "metadata": {},
   "source": [
    "**Solucion:**\n",
    "Sean $x_1,x_2,x_3$ variables que representan al precio unitario de cada producto en dólares por Kg. Entonces, se puede escribir:\n",
    "\n",
    "$$4x_1 + 2x_2 + 5x_3 = 60.70$$\n",
    "$$2x_1 + 5x_2 + 8x_3 = 92.90$$\n",
    "$$5x_1 + 4x_2 + 3x_3 = 56.30$$\n",
    "Reconocemos a primera vista como un sistema lineal no hómogeneo de tres ecuaciones con tres variables."
   ]
  },
  {
   "cell_type": "markdown",
   "id": "99b58b4e",
   "metadata": {},
   "source": [
    "La estrategia del método Gauss-Jordan consiste en transformar la matriz $A$ del sistema $AX = B$ y reducirla a la matriz identidad $I$ (Siempre y cuando $det(A)\\neq 0$). Donde:\n",
    "$$ A = \\left( \\begin{array}{ccc} \n",
    "4 & 2 & 5 \\\\\n",
    "2 & 5 & 8 \\\\ \n",
    "5 & 4 & 3 \\\\\n",
    "\\end{array} \\right)~~~~\n",
    "X = \\left( \\begin{array}{c}\n",
    "x_1 \\\\ \n",
    "x_2 \\\\\n",
    "x_3\n",
    "\\end{array} \\right)~~~~ \n",
    "B =\\left( \\begin{array}{c}\n",
    "60.70 \\\\ \n",
    "92.90 \\\\\n",
    "56.30\n",
    "\\end{array} \\right)\n",
    "$$\n"
   ]
  },
  {
   "cell_type": "markdown",
   "id": "4b3d40ce",
   "metadata": {},
   "source": [
    "En el caso de que la solución para $X$ exista, el procedimiento debe transformar las ecuaciones mediante operaciones lineales que no modifiquen la solución del sistema original:\n"
   ]
  },
  {
   "cell_type": "markdown",
   "id": "fec334ee",
   "metadata": {},
   "source": [
    "(a) Intercambiar ecuaciones."
   ]
  },
  {
   "cell_type": "markdown",
   "id": "65eaeddb",
   "metadata": {},
   "source": [
    "(b) Multiplicar ecuaciones por alguna constante no nula"
   ]
  },
  {
   "cell_type": "markdown",
   "id": "f7212a46",
   "metadata": {},
   "source": [
    "(c) Sumar alguna ecuación a otra ecuación"
   ]
  },
  {
   "cell_type": "markdown",
   "id": "85af5084",
   "metadata": {},
   "source": [
    "**Ahora formulamos el algoritmo para resolver este problema:**\n",
    "Entonces primero definimos nuestros arreglos tanto el $A$ como el $B$"
   ]
  },
  {
   "cell_type": "code",
   "execution_count": 1,
   "id": "516731da",
   "metadata": {},
   "outputs": [],
   "source": [
    "from numpy import*\n",
    "a  = array([[4,2,5],\n",
    "           [2,5,8],\n",
    "           [5,4,3]], float)\n",
    "b = array([[60.70],\n",
    "           [92.90],\n",
    "           [56.30]], float)"
   ]
  },
  {
   "cell_type": "markdown",
   "id": "bace96bb",
   "metadata": {},
   "source": [
    "Reescribimos como una matriz aumentada y hacemos uso de (axis)"
   ]
  },
  {
   "cell_type": "code",
   "execution_count": 2,
   "id": "02af59cf",
   "metadata": {},
   "outputs": [
    {
     "name": "stdout",
     "output_type": "stream",
     "text": [
      "[[ 4.   2.   5.  60.7]\n",
      " [ 2.   5.   8.  92.9]\n",
      " [ 5.   4.   3.  56.3]]\n"
     ]
    }
   ],
   "source": [
    "c = concatenate([a,b],axis=1)\n",
    "print(c)"
   ]
  },
  {
   "cell_type": "markdown",
   "id": "045b4436",
   "metadata": {},
   "source": [
    "Se multiplica la primera fila por 1/4"
   ]
  },
  {
   "cell_type": "code",
   "execution_count": 3,
   "id": "f21546be",
   "metadata": {},
   "outputs": [
    {
     "name": "stdout",
     "output_type": "stream",
     "text": [
      "[[ 1.     0.5    1.25  15.175]\n",
      " [ 2.     5.     8.    92.9  ]\n",
      " [ 5.     4.     3.    56.3  ]]\n"
     ]
    }
   ],
   "source": [
    "c[0,0:] = c[0,0:]/c[0,0]\n",
    "print(c)"
   ]
  },
  {
   "cell_type": "markdown",
   "id": "40a43a81",
   "metadata": {},
   "source": [
    "Utilizando la propiedad (c) podemos reducir la matriz $c$, restando de la segunda fila el producto de la primera por 2, y restando de la tercer fila el producto de la primera por 5"
   ]
  },
  {
   "cell_type": "code",
   "execution_count": 4,
   "id": "525e4231",
   "metadata": {},
   "outputs": [
    {
     "name": "stdout",
     "output_type": "stream",
     "text": [
      "[[  1.      0.5     1.25   15.175]\n",
      " [  0.      4.      5.5    62.55 ]\n",
      " [  0.      1.5    -3.25  -19.575]]\n"
     ]
    }
   ],
   "source": [
    "c[1,0:] = c[1,0:] - c[1,0]*c[0,0:]\n",
    "c[2,0:] = c[2,0:] - c[2,0]*c[0,0:]\n",
    "print(c)"
   ]
  },
  {
   "cell_type": "markdown",
   "id": "1c8e9d63",
   "metadata": {},
   "source": [
    "Multiplicamos la segunda fila por 1/4"
   ]
  },
  {
   "cell_type": "code",
   "execution_count": 5,
   "id": "b6ce8576",
   "metadata": {},
   "outputs": [
    {
     "name": "stdout",
     "output_type": "stream",
     "text": [
      "[[  1.       0.5      1.25    15.175 ]\n",
      " [  0.       1.       1.375   15.6375]\n",
      " [  0.       1.5     -3.25   -19.575 ]]\n"
     ]
    }
   ],
   "source": [
    "c[1,1:] = c[1,1:]/c[1,1]\n",
    "print(c)"
   ]
  },
  {
   "cell_type": "markdown",
   "id": "ee82c5a9",
   "metadata": {},
   "source": [
    "Análogo al paso anterior utilizamos la propiedad (c)"
   ]
  },
  {
   "cell_type": "code",
   "execution_count": 6,
   "id": "12a452e4",
   "metadata": {},
   "outputs": [
    {
     "name": "stdout",
     "output_type": "stream",
     "text": [
      "[[  1.        0.        0.5625    7.35625]\n",
      " [  0.        1.        1.375    15.6375 ]\n",
      " [  0.        0.       -5.3125  -43.03125]]\n"
     ]
    }
   ],
   "source": [
    "c[0,1:] = c[0,1:] - c[0,1]*c[1,1:]\n",
    "c[2,1:] = c[2,1:] - c[2,1]*c[1,1:]\n",
    "print(c)"
   ]
  },
  {
   "cell_type": "markdown",
   "id": "c2fb7f5e",
   "metadata": {},
   "source": [
    "Aplicamos la segunda propiedad:"
   ]
  },
  {
   "cell_type": "code",
   "execution_count": 7,
   "id": "2ddf46cb",
   "metadata": {},
   "outputs": [
    {
     "name": "stdout",
     "output_type": "stream",
     "text": [
      "[[ 1.       0.       0.5625   7.35625]\n",
      " [ 0.       1.       1.375   15.6375 ]\n",
      " [ 0.       0.       1.       8.1    ]]\n"
     ]
    }
   ],
   "source": [
    "c[2,2:] = c[2,2:]/c[2,2]\n",
    "print(c)"
   ]
  },
  {
   "cell_type": "markdown",
   "id": "1ab1fba4",
   "metadata": {},
   "source": [
    "Propiedad (c) nuevamente"
   ]
  },
  {
   "cell_type": "code",
   "execution_count": 8,
   "id": "8198890c",
   "metadata": {},
   "outputs": [
    {
     "name": "stdout",
     "output_type": "stream",
     "text": [
      "[[1.  0.  0.  2.8]\n",
      " [0.  1.  0.  4.5]\n",
      " [0.  0.  1.  8.1]]\n"
     ]
    }
   ],
   "source": [
    "c[0,2:] = c[0,2:]-c[0,2]*c[2,2:]\n",
    "c[1,2:] = c[1,2:]-c[1,2]*c[2,2:]\n",
    "print(c)"
   ]
  },
  {
   "cell_type": "markdown",
   "id": "292133c2",
   "metadata": {},
   "source": [
    "Solución del sistema de ecuación lineal:"
   ]
  },
  {
   "cell_type": "code",
   "execution_count": 9,
   "id": "f28efaa0",
   "metadata": {},
   "outputs": [
    {
     "name": "stdout",
     "output_type": "stream",
     "text": [
      "[2.8 4.5 8.1]\n"
     ]
    }
   ],
   "source": [
    "x = c[:,3]\n",
    "print(x)"
   ]
  },
  {
   "cell_type": "markdown",
   "id": "9f72e0fc",
   "metadata": {},
   "source": [
    "Se puede demostrar que la solución hallada es la correcta multiplicando la matriz $A$ por la matriz $X$:"
   ]
  },
  {
   "cell_type": "code",
   "execution_count": 10,
   "id": "7e3ab313",
   "metadata": {},
   "outputs": [
    {
     "name": "stdout",
     "output_type": "stream",
     "text": [
      "[60.7 92.9 56.3]\n"
     ]
    }
   ],
   "source": [
    "b = dot(a,x)\n",
    "print(b)"
   ]
  },
  {
   "cell_type": "markdown",
   "id": "c76dd4dc",
   "metadata": {},
   "source": [
    "**Referencia:**"
   ]
  },
  {
   "cell_type": "markdown",
   "id": "64fcb002",
   "metadata": {},
   "source": [
    "Ojeda, L. R. (2016). Análisis numérico básico. Guayaquil: Facultad de ciencias naturales y matemáticas (Departamento de Matemáticas)."
   ]
  },
  {
   "cell_type": "markdown",
   "id": "27acb827",
   "metadata": {},
   "source": [
    "página: 105"
   ]
  },
  {
   "cell_type": "code",
   "execution_count": null,
   "id": "e969be02",
   "metadata": {},
   "outputs": [],
   "source": []
  }
 ],
 "metadata": {
  "kernelspec": {
   "display_name": "Python 3",
   "language": "python",
   "name": "python3"
  },
  "language_info": {
   "codemirror_mode": {
    "name": "ipython",
    "version": 3
   },
   "file_extension": ".py",
   "mimetype": "text/x-python",
   "name": "python",
   "nbconvert_exporter": "python",
   "pygments_lexer": "ipython3",
   "version": "3.8.8"
  }
 },
 "nbformat": 4,
 "nbformat_minor": 5
}
