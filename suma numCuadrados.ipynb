{
 "cells": [
  {
   "cell_type": "markdown",
   "id": "db86ac60",
   "metadata": {},
   "source": [
    "## Serie $n^2$ (Suma de los primeros números al cuadrado)"
   ]
  },
  {
   "cell_type": "code",
   "execution_count": null,
   "id": "6a9e4a79",
   "metadata": {},
   "outputs": [],
   "source": [
    "n = int(input(\"Ingresa un número natural:\\n\"))"
   ]
  },
  {
   "cell_type": "code",
   "execution_count": null,
   "id": "cbe50366",
   "metadata": {},
   "outputs": [],
   "source": [
    "suma = 0"
   ]
  },
  {
   "cell_type": "code",
   "execution_count": null,
   "id": "004e78d0",
   "metadata": {},
   "outputs": [],
   "source": [
    "for i in range(1,n+1):\n",
    "    if i<n:\n",
    "        print(i**2, end=\" + \")\n",
    "    elif i == n:\n",
    "        print(i**2, end=\" = \")\n",
    "    suma += i**2\n",
    "print(suma)"
   ]
  },
  {
   "cell_type": "code",
   "execution_count": null,
   "id": "a5e5db9f",
   "metadata": {},
   "outputs": [],
   "source": []
  }
 ],
 "metadata": {
  "kernelspec": {
   "display_name": "Python 3",
   "language": "python",
   "name": "python3"
  },
  "language_info": {
   "codemirror_mode": {
    "name": "ipython",
    "version": 3
   },
   "file_extension": ".py",
   "mimetype": "text/x-python",
   "name": "python",
   "nbconvert_exporter": "python",
   "pygments_lexer": "ipython3",
   "version": "3.8.8"
  }
 },
 "nbformat": 4,
 "nbformat_minor": 5
}
