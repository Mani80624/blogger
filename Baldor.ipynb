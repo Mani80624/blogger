{
 "cells": [
  {
   "cell_type": "markdown",
   "id": "23949903",
   "metadata": {},
   "source": [
    "## Capítulo XXXVI Ecuaciones binomias y trinomias\n",
    "### Resolver la ecuación: $x^4 - 256 = 0$ pág.: 485\n",
    "#### Solución:"
   ]
  },
  {
   "cell_type": "code",
   "execution_count": null,
   "id": "87ff4f8d",
   "metadata": {},
   "outputs": [],
   "source": [
    "from sympy import *"
   ]
  },
  {
   "cell_type": "code",
   "execution_count": null,
   "id": "c7fed8f4",
   "metadata": {},
   "outputs": [],
   "source": [
    "x = symbols('x')"
   ]
  },
  {
   "cell_type": "code",
   "execution_count": null,
   "id": "cd2d3209",
   "metadata": {},
   "outputs": [],
   "source": [
    "solve(x**4 - 256, x)"
   ]
  },
  {
   "cell_type": "markdown",
   "id": "04f66e17",
   "metadata": {},
   "source": [
    "Las soluciones de la ecuación $x^{4}-256 = 0$ son: $-4,4,-4i,4i$"
   ]
  },
  {
   "cell_type": "markdown",
   "id": "dfbe3e56",
   "metadata": {},
   "source": [
    "## Capítulo XXI Representación gráfica de funciones y relaciones"
   ]
  },
  {
   "cell_type": "markdown",
   "id": "639ff73a",
   "metadata": {},
   "source": [
    "### Representar gráficamente la función: $2z + y = 10$ siendo $y$ la variable dependiente. Pág.:297"
   ]
  },
  {
   "cell_type": "markdown",
   "id": "f29b09ac",
   "metadata": {},
   "source": [
    "#### Solución:"
   ]
  },
  {
   "cell_type": "markdown",
   "id": "f4b040a5",
   "metadata": {},
   "source": [
    "Cuando una función la variable dependiente no está despejada, como en este caso, la función es explícita, despejando a $y$, tendremos $y = 10-2z$"
   ]
  },
  {
   "cell_type": "markdown",
   "id": "c9d909d6",
   "metadata": {},
   "source": [
    "Para hallar las intersecciones en el eje $z$ se hace con el siguiente código:"
   ]
  },
  {
   "cell_type": "code",
   "execution_count": null,
   "id": "b71b9005",
   "metadata": {},
   "outputs": [],
   "source": [
    "import matplotlib.pyplot as plt\n",
    "import numpy as np"
   ]
  },
  {
   "cell_type": "code",
   "execution_count": null,
   "id": "869f6a37",
   "metadata": {},
   "outputs": [],
   "source": [
    "y, z = symbols('y z')"
   ]
  },
  {
   "cell_type": "code",
   "execution_count": null,
   "id": "a99adce8",
   "metadata": {},
   "outputs": [],
   "source": [
    "solve(10-2*z,z)"
   ]
  },
  {
   "cell_type": "markdown",
   "id": "0dc592fb",
   "metadata": {},
   "source": [
    "Note entonces, que la función tiene una intersección en el eje $z$ en 5, similar al anterior pero ahora con respecto al eje $y$"
   ]
  },
  {
   "cell_type": "code",
   "execution_count": null,
   "id": "9146c08c",
   "metadata": {},
   "outputs": [],
   "source": [
    "solve((10-y)/2, y)"
   ]
  },
  {
   "cell_type": "markdown",
   "id": "85bc0c0b",
   "metadata": {},
   "source": [
    "Respecto al eje $y$, la función interseca en 10, podemos hallar más puntos de $y$ de la siguiente forma:"
   ]
  },
  {
   "cell_type": "code",
   "execution_count": null,
   "id": "25bae4d4",
   "metadata": {},
   "outputs": [],
   "source": [
    "def f(z):\n",
    "    return 10-2*z"
   ]
  },
  {
   "cell_type": "code",
   "execution_count": null,
   "id": "803df74d",
   "metadata": {},
   "outputs": [],
   "source": [
    "z = np.array([0,1,2,3,4,5,6])\n",
    "f(z)"
   ]
  },
  {
   "cell_type": "markdown",
   "id": "00519cc6",
   "metadata": {},
   "source": [
    "Con esto podemos empezar a gráficar con matplotlib"
   ]
  },
  {
   "cell_type": "code",
   "execution_count": null,
   "id": "71662ba7",
   "metadata": {},
   "outputs": [],
   "source": [
    "plt.plot([10,  8,  6,  4,  2,  0, -2])\n",
    "plt.title(\"Gráfica $2z + y = 10$\")\n",
    "plt.ylabel(\"Y\")\n",
    "plt.xlabel(\"Z\")\n",
    "plt.show()"
   ]
  },
  {
   "cell_type": "markdown",
   "id": "ab2338f6",
   "metadata": {},
   "source": [
    "Y por lo tanto es la gráfica que corresponde a la función dada"
   ]
  },
  {
   "cell_type": "code",
   "execution_count": null,
   "id": "b430261b",
   "metadata": {},
   "outputs": [],
   "source": []
  }
 ],
 "metadata": {
  "kernelspec": {
   "display_name": "Python 3",
   "language": "python",
   "name": "python3"
  },
  "language_info": {
   "codemirror_mode": {
    "name": "ipython",
    "version": 3
   },
   "file_extension": ".py",
   "mimetype": "text/x-python",
   "name": "python",
   "nbconvert_exporter": "python",
   "pygments_lexer": "ipython3",
   "version": "3.8.8"
  }
 },
 "nbformat": 4,
 "nbformat_minor": 5
}
