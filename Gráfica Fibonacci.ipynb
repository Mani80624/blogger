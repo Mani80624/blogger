{
 "cells": [
  {
   "cell_type": "markdown",
   "id": "43e26695",
   "metadata": {},
   "source": [
    "# Gráfica de la sucesión de Fibonacci"
   ]
  },
  {
   "cell_type": "markdown",
   "id": "0795b882",
   "metadata": {},
   "source": [
    "#### Se utilizan las librerías matplotlib.pyplot y numpy"
   ]
  },
  {
   "cell_type": "code",
   "execution_count": 1,
   "id": "00aab898",
   "metadata": {},
   "outputs": [],
   "source": [
    "import matplotlib.pyplot as plt\n",
    "import numpy as np"
   ]
  },
  {
   "cell_type": "markdown",
   "id": "58c3bd74",
   "metadata": {},
   "source": [
    "#### Código de la sucesión de Fibonacci"
   ]
  },
  {
   "cell_type": "code",
   "execution_count": 2,
   "id": "3e4706cf",
   "metadata": {},
   "outputs": [
    {
     "name": "stdout",
     "output_type": "stream",
     "text": [
      "¿Cuántos números de Fibonacci quieres?: \n",
      "40\n"
     ]
    }
   ],
   "source": [
    "n = int(input(\"¿Cuántos números de Fibonacci quieres?: \\n\"))\n",
    "a, b = 0, 1"
   ]
  },
  {
   "cell_type": "markdown",
   "id": "a5a2d3e0",
   "metadata": {},
   "source": [
    "#### Definimos un arreglo"
   ]
  },
  {
   "cell_type": "code",
   "execution_count": 3,
   "id": "75be8444",
   "metadata": {},
   "outputs": [],
   "source": [
    "datos = []"
   ]
  },
  {
   "cell_type": "code",
   "execution_count": 4,
   "id": "61f43410",
   "metadata": {},
   "outputs": [
    {
     "name": "stdout",
     "output_type": "stream",
     "text": [
      "1, 1, 2, 3, 5, 8, 13, 21, 34, 55, 89, 144, 233, 377, 610, 987, 1597, 2584, 4181, 6765, 10946, 17711, 28657, 46368, 75025, 121393, 196418, 317811, 514229, 832040, 1346269, 2178309, 3524578, 5702887, 9227465, 14930352, 24157817, 39088169, 63245986, 102334155, "
     ]
    }
   ],
   "source": [
    "for i in range(1,n+1):\n",
    "    datos.append(b) # Acumula los valores de la sucesión en un arreglo\n",
    "    print(b, end=\", \")\n",
    "    a, b = b, a+b"
   ]
  },
  {
   "cell_type": "code",
   "execution_count": 5,
   "id": "b22b5c27",
   "metadata": {},
   "outputs": [],
   "source": [
    "datos_asarray = np.asarray(datos) # Conversión del arreglo a np.array()\n",
    "#datos_asarray.shape # No. Elementos en datos_asarray"
   ]
  },
  {
   "cell_type": "markdown",
   "id": "ee9fe9ee",
   "metadata": {},
   "source": [
    "#### Creando el gráfico de la sucesión utilizando el arreglo datos_asarray"
   ]
  },
  {
   "cell_type": "code",
   "execution_count": 6,
   "id": "730848c5",
   "metadata": {},
   "outputs": [
    {
     "data": {
      "text/plain": [
       "<matplotlib.legend.Legend at 0x1f301bf82e0>"
      ]
     },
     "execution_count": 6,
     "metadata": {},
     "output_type": "execute_result"
    },
    {
     "data": {
      "image/png": "[encoded data removed]",
      "text/plain": [
       "<Figure size 432x288 with 1 Axes>"
      ]
     },
     "metadata": {
      "needs_background": "light"
     },
     "output_type": "display_data"
    }
   ],
   "source": [
    "fig, ax = plt.subplots() # Crea una figura y un eje\n",
    "ax.plot(datos_asarray, label='Fibonacci') # Trazar algunos datos en los ejes\n",
    "ax.set_xlabel('a')\n",
    "ax.set_ylabel('b')\n",
    "ax.set_title('Sucesión de Fibonacci')\n",
    "ax.legend()"
   ]
  },
  {
   "cell_type": "code",
   "execution_count": null,
   "id": "1f604db8",
   "metadata": {},
   "outputs": [],
   "source": []
  }
 ],
 "metadata": {
  "kernelspec": {
   "display_name": "Python 3",
   "language": "python",
   "name": "python3"
  },
  "language_info": {
   "codemirror_mode": {
    "name": "ipython",
    "version": 3
   },
   "file_extension": ".py",
   "mimetype": "text/x-python",
   "name": "python",
   "nbconvert_exporter": "python",
   "pygments_lexer": "ipython3",
   "version": "3.8.8"
  }
 },
 "nbformat": 4,
 "nbformat_minor": 5
}
