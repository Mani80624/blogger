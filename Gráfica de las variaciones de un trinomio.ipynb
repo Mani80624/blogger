{
 "cells": [
  {
   "cell_type": "markdown",
   "id": "c19e6483",
   "metadata": {},
   "source": [
    "# Representar gráficamente las variaciones de un trinomio de segundo grado usando Python\n",
    "## Representar gráficamente las variaciones de $x^2-29x+100=0$"
   ]
  },
  {
   "cell_type": "code",
   "execution_count": 1,
   "id": "ad3b8534",
   "metadata": {},
   "outputs": [],
   "source": [
    "from sympy import*\n",
    "import matplotlib.pyplot as plt\n",
    "import numpy as np"
   ]
  },
  {
   "cell_type": "markdown",
   "id": "8f53c014",
   "metadata": {},
   "source": [
    "#### Se define la variable x"
   ]
  },
  {
   "cell_type": "code",
   "execution_count": 2,
   "id": "107a6251",
   "metadata": {},
   "outputs": [],
   "source": [
    "x = Symbol('x')"
   ]
  },
  {
   "cell_type": "code",
   "execution_count": 3,
   "id": "a89036d7",
   "metadata": {},
   "outputs": [],
   "source": [
    "f = x**2-29*x+100"
   ]
  },
  {
   "cell_type": "markdown",
   "id": "8f4ee9bf",
   "metadata": {},
   "source": [
    "#### Ahora se saca el determinante de la función $I = b^2 - 4 ac$"
   ]
  },
  {
   "cell_type": "code",
   "execution_count": 4,
   "id": "125ab758",
   "metadata": {},
   "outputs": [],
   "source": [
    "I = (-29)**2 - 4*1*100"
   ]
  },
  {
   "cell_type": "code",
   "execution_count": 5,
   "id": "c558d753",
   "metadata": {},
   "outputs": [
    {
     "name": "stdout",
     "output_type": "stream",
     "text": [
      "I =  441\n"
     ]
    }
   ],
   "source": [
    "print(\"I = \", I)"
   ]
  },
  {
   "cell_type": "markdown",
   "id": "c74d1709",
   "metadata": {},
   "source": [
    "#### Notemos que el resultado del determinante es 441 por lo tanto las raices son reales y diferentes\n",
    "#### Ahora encontremos las raices de la función"
   ]
  },
  {
   "cell_type": "code",
   "execution_count": 6,
   "id": "57cf49e7",
   "metadata": {},
   "outputs": [
    {
     "data": {
      "text/latex": [
       "$\\displaystyle \\left(x - 25\\right) \\left(x - 4\\right)$"
      ],
      "text/plain": [
       "(x - 25)*(x - 4)"
      ]
     },
     "execution_count": 6,
     "metadata": {},
     "output_type": "execute_result"
    }
   ],
   "source": [
    "factor(f)"
   ]
  },
  {
   "cell_type": "markdown",
   "id": "f760391d",
   "metadata": {},
   "source": [
    "#### Donde 25 y 4 son raices del polinomio"
   ]
  },
  {
   "cell_type": "markdown",
   "id": "2dc9bef0",
   "metadata": {},
   "source": [
    "Es fácil ver que:\n",
    "#### Si $x = -1 ~~\\to~~ x^2-29x+100 = 130$\n",
    "#### Si $x = 0 ~~\\to~~ x^2-29x+100 = 100$\n",
    "#### Si $x = 1 ~~\\to~~ x^2-29x+100 = 72$\n",
    "#### Si $x = 2 ~~\\to~~ x^2-29x+100 = 46$\n",
    "#### Si $x = 3 ~~\\to~~ x^2-29x+100 = 22$\n",
    "#### Si $x = 4 ~~\\to~~ x^2-29x+100 = 0$\n",
    "#### Si $x = 5 ~~\\to~~ x^2-29x+100 = -20$\n",
    "#### Si $x = 6 ~~\\to~~ x^2-29x+100 = -38$\n",
    "#### Si $x = 7 ~~\\to~~ x^2-29x+100 = -54$"
   ]
  },
  {
   "cell_type": "code",
   "execution_count": 7,
   "id": "6177ba43",
   "metadata": {},
   "outputs": [],
   "source": [
    "X = [-1,0,1,2,3,4,5,6,7]\n",
    "Y = [130, 100,  72,  46,  22,   0, -20, -38, -54]"
   ]
  },
  {
   "cell_type": "code",
   "execution_count": 8,
   "id": "8ca950ec",
   "metadata": {},
   "outputs": [
    {
     "data": {
      "image/png": "[encoded data removed]",
      "text/plain": [
       "<Figure size 432x288 with 1 Axes>"
      ]
     },
     "metadata": {
      "needs_background": "light"
     },
     "output_type": "display_data"
    }
   ],
   "source": [
    "plt.scatter(X,Y)\n",
    "plt.xlabel(\"X\")\n",
    "plt.ylabel(\"Y\")\n",
    "plt.title(\"Variaciones del trinomio $x^2-29x+100$\")\n",
    "plt.show()"
   ]
  },
  {
   "cell_type": "markdown",
   "id": "020b0090",
   "metadata": {},
   "source": [
    "Porlo tanto uniendo los puntos la gráfica queda:"
   ]
  },
  {
   "cell_type": "code",
   "execution_count": 9,
   "id": "7ac2527f",
   "metadata": {},
   "outputs": [
    {
     "data": {
      "image/png": "[encoded data removed]",
      "text/plain": [
       "<Figure size 432x288 with 1 Axes>"
      ]
     },
     "metadata": {
      "needs_background": "light"
     },
     "output_type": "display_data"
    }
   ],
   "source": [
    "plt.plot(X,Y, label=\"Function\")\n",
    "plt.xlabel(\"x\")\n",
    "plt.ylabel(\"Y\")\n",
    "plt.title(\"Variaciones del trinomio $x^2-29x+100$\")\n",
    "plt.legend()\n",
    "plt.show()"
   ]
  },
  {
   "cell_type": "code",
   "execution_count": null,
   "id": "178f5fb7",
   "metadata": {},
   "outputs": [],
   "source": []
  },
  {
   "cell_type": "code",
   "execution_count": null,
   "id": "fc14bdbe",
   "metadata": {},
   "outputs": [],
   "source": []
  }
 ],
 "metadata": {
  "kernelspec": {
   "display_name": "Python 3",
   "language": "python",
   "name": "python3"
  },
  "language_info": {
   "codemirror_mode": {
    "name": "ipython",
    "version": 3
   },
   "file_extension": ".py",
   "mimetype": "text/x-python",
   "name": "python",
   "nbconvert_exporter": "python",
   "pygments_lexer": "ipython3",
   "version": "3.8.8"
  }
 },
 "nbformat": 4,
 "nbformat_minor": 5
}
