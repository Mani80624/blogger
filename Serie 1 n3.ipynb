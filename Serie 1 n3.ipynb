{
 "cells": [
  {
   "cell_type": "markdown",
   "id": "2e7c8b9d",
   "metadata": {},
   "source": [
    "## Serie $\\frac{1}{n^3}$"
   ]
  },
  {
   "cell_type": "code",
   "execution_count": 1,
   "id": "45c9a237",
   "metadata": {},
   "outputs": [
    {
     "name": "stdout",
     "output_type": "stream",
     "text": [
      "Ingresa un número natural: \n",
      "6\n"
     ]
    }
   ],
   "source": [
    "n = int(input(\"Ingresa un número natural: \\n\"))"
   ]
  },
  {
   "cell_type": "code",
   "execution_count": 2,
   "id": "2631deae",
   "metadata": {},
   "outputs": [],
   "source": [
    "suma = 0"
   ]
  },
  {
   "cell_type": "code",
   "execution_count": 3,
   "id": "d58f86ce",
   "metadata": {},
   "outputs": [
    {
     "name": "stdout",
     "output_type": "stream",
     "text": [
      "1/ 1 + 1/ 8 + 1/ 27 + 1/ 64 + 1/ 125 + 1/ 216 = 1.1902916666666665\n"
     ]
    }
   ],
   "source": [
    "for i in range(1,n+1):\n",
    "    if i < n:\n",
    "        print(\"1/\", i**3, end=\" + \")\n",
    "    elif i == n:\n",
    "        print(\"1/\", i**3, end=\" = \")\n",
    "        \n",
    "    suma += 1/i**3\n",
    "    \n",
    "print(suma)"
   ]
  },
  {
   "cell_type": "code",
   "execution_count": null,
   "id": "0169fd2d",
   "metadata": {},
   "outputs": [],
   "source": []
  }
 ],
 "metadata": {
  "kernelspec": {
   "display_name": "Python 3",
   "language": "python",
   "name": "python3"
  },
  "language_info": {
   "codemirror_mode": {
    "name": "ipython",
    "version": 3
   },
   "file_extension": ".py",
   "mimetype": "text/x-python",
   "name": "python",
   "nbconvert_exporter": "python",
   "pygments_lexer": "ipython3",
   "version": "3.8.8"
  }
 },
 "nbformat": 4,
 "nbformat_minor": 5
}
