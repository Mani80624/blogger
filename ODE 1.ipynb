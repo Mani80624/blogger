{
 "cells": [
  {
   "cell_type": "markdown",
   "id": "02866e6e",
   "metadata": {},
   "source": [
    "# Ejercicio\n",
    "#### Encuentre una solución numérica para las siguientes ecuaciones diferenciales con las condiciones iniciales asociadas . Expanda el orizonte de tiempo solicitado hasta que la solución alcance un estado estable. "
   ]
  },
  {
   "cell_type": "markdown",
   "id": "282ce497",
   "metadata": {},
   "source": [
    "$$ \\frac{Dy(t)}{Dt} = -y(t) + 1$$\n",
    "$$y(0) = 0$$"
   ]
  },
  {
   "cell_type": "code",
   "execution_count": 1,
   "id": "2468161a",
   "metadata": {},
   "outputs": [],
   "source": [
    "#Importamos las librerias a utilizar\n",
    "import numpy as np\n",
    "from scipy.integrate import odeint\n",
    "import matplotlib.pyplot as plt"
   ]
  },
  {
   "cell_type": "code",
   "execution_count": 2,
   "id": "96092c60",
   "metadata": {},
   "outputs": [],
   "source": [
    "# Definimos la función dy/dt\n",
    "def model(y,t):\n",
    "    dydt = -y + 1.0\n",
    "    return dydt"
   ]
  },
  {
   "cell_type": "code",
   "execution_count": 3,
   "id": "7a79219a",
   "metadata": {},
   "outputs": [],
   "source": [
    "#Condición inicial\n",
    "y0 = 0\n",
    "\n",
    "# Puntos de tiempo\n",
    "t = np.linspace(0,5)"
   ]
  },
  {
   "cell_type": "code",
   "execution_count": 4,
   "id": "8170b62d",
   "metadata": {},
   "outputs": [],
   "source": [
    "# Resolver Ecuación diferencial\n",
    "y = odeint(model,y0,t)"
   ]
  },
  {
   "cell_type": "code",
   "execution_count": 5,
   "id": "ba2cb949",
   "metadata": {},
   "outputs": [
    {
     "data": {
      "image/png": "[encoded data removed]",
      "text/plain": [
       "<Figure size 432x288 with 1 Axes>"
      ]
     },
     "metadata": {
      "needs_background": "light"
     },
     "output_type": "display_data"
    }
   ],
   "source": [
    "# Gráficar resultados\n",
    "plt.plot(t,y)\n",
    "plt.xlabel('Tiempo')\n",
    "plt.ylabel('y(t)')\n",
    "plt.show()"
   ]
  },
  {
   "cell_type": "code",
   "execution_count": null,
   "id": "4b9e1069",
   "metadata": {},
   "outputs": [],
   "source": []
  }
 ],
 "metadata": {
  "kernelspec": {
   "display_name": "Python 3",
   "language": "python",
   "name": "python3"
  },
  "language_info": {
   "codemirror_mode": {
    "name": "ipython",
    "version": 3
   },
   "file_extension": ".py",
   "mimetype": "text/x-python",
   "name": "python",
   "nbconvert_exporter": "python",
   "pygments_lexer": "ipython3",
   "version": "3.8.8"
  }
 },
 "nbformat": 4,
 "nbformat_minor": 5
}
